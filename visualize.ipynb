{
 "cells": [
  {
   "cell_type": "code",
   "execution_count": 45,
   "metadata": {
    "collapsed": true,
    "pycharm": {
     "name": "#%%\n"
    }
   },
   "outputs": [],
   "source": [
    "import numpy as np\n",
    "from matplotlib import pyplot as plt\n",
    "import torch\n",
    "from scene_synthesis.datasets.nuScenes import NuScenesDataset\n",
    "from scene_synthesis.datasets.utils import collate_train\n",
    "from scene_synthesis.networks.feature_extractors import ResNet18\n",
    "from scene_synthesis.networks.autoregressive_transformer import AutoregressiveTransformer\n",
    "\n",
    "def to_numpy(data: dict):\n",
    "    for k in data:\n",
    "        if isinstance(data[k], torch.Tensor):\n",
    "            data[k] = data[k].squeeze()\n",
    "            if not data[k].shape:\n",
    "                data[k] = data[k].item()\n",
    "            else:\n",
    "                data[k] = data[k].numpy()\n",
    "        elif isinstance(data[k], dict):\n",
    "            to_numpy(data[k])\n"
   ]
  },
  {
   "cell_type": "code",
   "execution_count": null,
   "outputs": [],
   "source": [
    "plt.ion()\n",
    "# np.random.seed(0)\n",
    "# torch.manual_seed(0)\n",
    "dataset = NuScenesDataset(\"/media/yifanlin/My Passport/data/nuScene-processed\", train=True)\n",
    "axes_limit = 40\n",
    "cat2color = {1: 'red', 2: 'blue', 3: 'green'}\n",
    "feature_extractor = ResNet18(4, 512)\n",
    "model = AutoregressiveTransformer(feature_extractor, None)\n",
    "model.load_state_dict(torch.load('./ckpts/reduced'))\n"
   ],
   "metadata": {
    "collapsed": false,
    "pycharm": {
     "name": "#%%\n"
    }
   }
  },
  {
   "cell_type": "code",
   "execution_count": null,
   "outputs": [],
   "source": [
    "data = dataset[0]\n",
    "input_data, length, _ = collate_train([data])\n",
    "for k in data:\n",
    "    data[k] = input_data[k].squeeze(0).numpy()\n"
   ],
   "metadata": {
    "collapsed": false,
    "pycharm": {
     "name": "#%%\n"
    }
   }
  },
  {
   "cell_type": "code",
   "execution_count": null,
   "outputs": [],
   "source": [
    "condition = {\n",
    "    \"category\": 1,  # int\n",
    "    \"location\": None,  # (1, 2)\n",
    "    \"bbox\": None,  # (1, 2), (1, 1)\n",
    "    \"velocity\": None  # (1, 1), (1, 1), (1, 1)\n",
    "}"
   ],
   "metadata": {
    "collapsed": false,
    "pycharm": {
     "name": "#%%\n"
    }
   }
  },
  {
   "cell_type": "code",
   "execution_count": null,
   "outputs": [],
   "source": [
    "preds, probs = model.generate(input_data, length, condition)\n",
    "to_numpy(preds)\n",
    "category = preds['category']\n",
    "if category != 0:\n",
    "    preds['location'] = np.array([preds['location'] // 20, preds['location'] % 20]) * 4 - 40 + 2\n",
    "    data['category'] = np.concatenate([data['category'], np.array([preds['category']])], axis=0)\n",
    "    data['location'] = np.concatenate([data['location'], preds['location'].reshape(1, -1)], axis=0)\n",
    "    data['bbox'] = np.concatenate([data['bbox'], np.concatenate([preds['wl'], np.array([preds['theta']])], axis=0).reshape(1, -1)], axis=0)\n",
    "    data['velocity'] = np.concatenate([data['velocity'], np.array([[preds['s'] * preds['moving'], preds['omega']]])], axis=0)\n",
    "    idx = list(range(len(data['category'])))\n",
    "    idx.sort(key=lambda x: (-data['location'][x][1], data['location'][x][0]))\n",
    "    for k in ['category', 'location', 'bbox', 'velocity']:\n",
    "        data[k] = data[k][idx]\n",
    "    input_data['category'] = torch.tensor(data['category'])\n",
    "    for k in ['location', 'bbox', 'velocity', 'map']:\n",
    "        input_data[k] = torch.tensor(data[k], dtype=torch.float)\n",
    "    input_data, length, _ = collate_train([input_data], keep_all=True)\n",
    "\n",
    "_, ax = plt.subplots(figsize=(10, 10))\n",
    "map_layers = data['map'].sum(axis=0)\n",
    "map_layers /= map_layers.max() * 2\n",
    "map_layers = np.stack([map_layers] * 3, axis=-1)\n",
    "grid = np.meshgrid(np.arange(-axes_limit, axes_limit, 4), np.flip(np.arange(-axes_limit, axes_limit, 4)))\n",
    "grid = np.stack(grid, axis=-1)\n",
    "grid = (grid + 40) // 4\n",
    "grid = grid[..., 0] * 20 + grid[..., 1]\n",
    "prob_map = np.exp(probs['location'].log_prob(torch.tensor(grid)).numpy())\n",
    "prob_map /= np.sum(prob_map)\n",
    "prob_map = np.kron(prob_map, np.ones((40, 40)))\n",
    "map_layers[..., 2] += prob_map\n",
    "map_layers[..., 2] /= map_layers[..., 2].max()\n",
    "ax.imshow(map_layers, extent=[-axes_limit, axes_limit, -axes_limit, axes_limit])\n",
    "for i in range(length.item()):\n",
    "    if data['category'][i] != 0:\n",
    "        color = cat2color[data['category'][i]]\n",
    "        loc = data['location'][i]\n",
    "        ax.plot(loc[0], loc[1], 'x', color=color)\n",
    "        w, l, theta = data['bbox'][i]\n",
    "        corners = np.array([[l / 2, w / 2],\n",
    "                            [-l / 2, w / 2],\n",
    "                            [-l / 2, -w / 2],\n",
    "                            [l / 2, -w / 2],\n",
    "                            [l / 2, w / 2]])\n",
    "        rotation = np.array([[np.cos(theta), np.sin(theta)],\n",
    "                             [-np.sin(theta), np.cos(theta)]])\n",
    "        corners = np.dot(corners, rotation) + loc\n",
    "        ax.plot(corners[:, 0], corners[:, 1], color=color, linewidth=2)\n",
    "        speed, omega = data['velocity'][i]\n",
    "        rotation = np.array([[np.cos(omega), np.sin(omega)],\n",
    "                             [-np.sin(omega), np.cos(omega)]])\n",
    "        velocity = np.dot(np.array([speed, 0]), rotation)\n",
    "        ax.arrow(loc[0], loc[1], velocity[0] * 5, velocity[1] * 5, color=color, width=0.05)\n"
   ],
   "metadata": {
    "collapsed": false,
    "pycharm": {
     "name": "#%%\n"
    }
   }
  },
  {
   "cell_type": "code",
   "execution_count": null,
   "outputs": [],
   "source": [
    "grid = np.meshgrid(np.linspace(0.01, 20, 200), np.linspace(20, 0.01, 200))\n",
    "grid = np.stack(grid, axis=-1)\n",
    "prob_map = np.exp(probs['wl'].log_prob(torch.tensor(grid)).numpy())\n",
    "plt.figure(figsize=(10, 10))\n",
    "plt.imshow(prob_map, extent=[0.01, 20, 0.01, 20])"
   ],
   "metadata": {
    "collapsed": false,
    "pycharm": {
     "name": "#%%\n"
    }
   }
  },
  {
   "cell_type": "code",
   "execution_count": null,
   "outputs": [],
   "source": [
    "grid = np.linspace(0, 2 * np.pi, 200)[..., None]\n",
    "prob_map = np.exp(probs['theta'].log_prob(torch.tensor(grid)).numpy())\n",
    "plt.figure(figsize=(10, 10))\n",
    "plt.plot(grid, prob_map)"
   ],
   "metadata": {
    "collapsed": false,
    "pycharm": {
     "name": "#%%\n"
    }
   }
  },
  {
   "cell_type": "code",
   "execution_count": null,
   "outputs": [],
   "source": [
    "torch.softmax(probs['category'].logits, 1)"
   ],
   "metadata": {
    "collapsed": false,
    "pycharm": {
     "name": "#%%\n"
    }
   }
  },
  {
   "cell_type": "code",
   "execution_count": null,
   "outputs": [],
   "source": [
    "probs['theta'].mixture_distribution.logits"
   ],
   "metadata": {
    "collapsed": false,
    "pycharm": {
     "name": "#%%\n"
    }
   }
  },
  {
   "cell_type": "code",
   "execution_count": null,
   "outputs": [],
   "source": [
    "probs['theta'].component_distribution.variance"
   ],
   "metadata": {
    "collapsed": false,
    "pycharm": {
     "name": "#%%\n"
    }
   }
  },
  {
   "cell_type": "code",
   "execution_count": null,
   "outputs": [],
   "source": [
    "import torch\n",
    "from torch.distributions import VonMises\n",
    "from torch import nn\n",
    "from torch.optim import Adam\n",
    "from matplotlib import pyplot as plt\n",
    "import numpy as np\n",
    "\n",
    "class Test(nn.Module):\n",
    "    def __init__(self):\n",
    "        super().__init__()\n",
    "        self.loc = nn.Parameter(torch.randn(1))\n",
    "        self.concentration = nn.Parameter(torch.randn(1))\n",
    "    def forward(self):\n",
    "        prob = VonMises(self.loc, torch.exp(self.concentration) * 0.5)\n",
    "        return -prob.log_prob(torch.tensor([1.57]))\n",
    "\n",
    "test = Test()\n",
    "optimizer = Adam(test.parameters(), lr=1e-3)"
   ],
   "metadata": {
    "collapsed": false,
    "pycharm": {
     "name": "#%%\n"
    }
   }
  },
  {
   "cell_type": "code",
   "execution_count": null,
   "outputs": [],
   "source": [
    "for i in range(2000):\n",
    "    optimizer.zero_grad()\n",
    "    loss = test()\n",
    "    print(f'{i}: {loss.item()}')\n",
    "    loss.backward()\n",
    "    optimizer.step()"
   ],
   "metadata": {
    "collapsed": false,
    "pycharm": {
     "name": "#%%\n"
    }
   }
  },
  {
   "cell_type": "code",
   "execution_count": null,
   "outputs": [],
   "source": [
    "prob = VonMises(test.loc, torch.exp(test.concentration) * 0.5)\n",
    "grid = np.linspace(0, 2 * np.pi, 200)[..., None]\n",
    "prob_map = np.exp(prob.log_prob(torch.tensor(grid)).detach().numpy())\n",
    "plt.plot(grid, prob_map)\n",
    "plt.show()"
   ],
   "metadata": {
    "collapsed": false,
    "pycharm": {
     "name": "#%%\n"
    }
   }
  },
  {
   "cell_type": "code",
   "execution_count": null,
   "outputs": [],
   "source": [
    "test.concentration"
   ],
   "metadata": {
    "collapsed": false,
    "pycharm": {
     "name": "#%%\n"
    }
   }
  },
  {
   "cell_type": "code",
   "execution_count": null,
   "outputs": [],
   "source": [
    "x = torch.linspace(-2, 2, 200)\n",
    "y1 = torch.exp(x) * 0.5\n",
    "y2 = torch.sigmoid(x) * 0.5\n",
    "plt.figure(figsize=(10, 10))\n",
    "plt.plot(x, y1)\n",
    "plt.plot(x, y2)\n",
    "plt.show()"
   ],
   "metadata": {
    "collapsed": false,
    "pycharm": {
     "name": "#%%\n"
    }
   }
  },
  {
   "cell_type": "code",
   "execution_count": null,
   "outputs": [],
   "source": [
    "probs['theta'].mixture_distribution.logits"
   ],
   "metadata": {
    "collapsed": false,
    "pycharm": {
     "name": "#%%\n"
    }
   }
  },
  {
   "cell_type": "code",
   "execution_count": null,
   "outputs": [],
   "source": [
    "probs['theta'].component_distribution.variance"
   ],
   "metadata": {
    "collapsed": false,
    "pycharm": {
     "name": "#%%\n"
    }
   }
  },
  {
   "cell_type": "code",
   "execution_count": null,
   "outputs": [],
   "source": [
    "import torch\n",
    "from torch.distributions import VonMises\n",
    "from torch import nn\n",
    "from torch.optim import Adam\n",
    "from matplotlib import pyplot as plt\n",
    "import numpy as np\n",
    "\n",
    "class Test(nn.Module):\n",
    "    def __init__(self):\n",
    "        super().__init__()\n",
    "        self.loc = nn.Parameter(torch.randn(1))\n",
    "        self.concentration = nn.Parameter(torch.randn(1))\n",
    "    def forward(self):\n",
    "        prob = VonMises(self.loc, torch.exp(self.concentration) * 0.5)\n",
    "        return -prob.log_prob(torch.tensor([1.57]))\n",
    "\n",
    "test = Test()\n",
    "optimizer = Adam(test.parameters(), lr=1e-3)"
   ],
   "metadata": {
    "collapsed": false,
    "pycharm": {
     "name": "#%%\n"
    }
   }
  },
  {
   "cell_type": "code",
   "execution_count": null,
   "outputs": [],
   "source": [
    "for i in range(2000):\n",
    "    optimizer.zero_grad()\n",
    "    loss = test()\n",
    "    print(f'{i}: {loss.item()}')\n",
    "    loss.backward()\n",
    "    optimizer.step()"
   ],
   "metadata": {
    "collapsed": false,
    "pycharm": {
     "name": "#%%\n"
    }
   }
  },
  {
   "cell_type": "code",
   "execution_count": null,
   "outputs": [],
   "source": [
    "prob = VonMises(test.loc, torch.exp(test.concentration) * 0.5)\n",
    "grid = np.linspace(0, 2 * np.pi, 200)[..., None]\n",
    "prob_map = np.exp(prob.log_prob(torch.tensor(grid)).detach().numpy())\n",
    "plt.plot(grid, prob_map)\n",
    "plt.show()"
   ],
   "metadata": {
    "collapsed": false,
    "pycharm": {
     "name": "#%%\n"
    }
   }
  },
  {
   "cell_type": "code",
   "execution_count": null,
   "outputs": [],
   "source": [
    "test.concentration"
   ],
   "metadata": {
    "collapsed": false,
    "pycharm": {
     "name": "#%%\n"
    }
   }
  },
  {
   "cell_type": "code",
   "execution_count": null,
   "outputs": [],
   "source": [
    "x = torch.linspace(-2, 2, 200)\n",
    "y1 = torch.exp(x) * 0.5\n",
    "y2 = torch.sigmoid(x) * 0.5\n",
    "plt.figure(figsize=(10, 10))\n",
    "plt.plot(x, y1)\n",
    "plt.plot(x, y2)\n",
    "plt.show()"
   ],
   "metadata": {
    "collapsed": false,
    "pycharm": {
     "name": "#%%\n"
    }
   }
  },
  {
   "cell_type": "code",
   "execution_count": null,
   "outputs": [],
   "source": [],
   "metadata": {
    "collapsed": false,
    "pycharm": {
     "name": "#%%\n"
    }
   }
  }
 ],
 "metadata": {
  "kernelspec": {
   "display_name": "Python 3",
   "language": "python",
   "name": "python3"
  },
  "language_info": {
   "codemirror_mode": {
    "name": "ipython",
    "version": 2
   },
   "file_extension": ".py",
   "mimetype": "text/x-python",
   "name": "python",
   "nbconvert_exporter": "python",
   "pygments_lexer": "ipython2",
   "version": "2.7.6"
  }
 },
 "nbformat": 4,
 "nbformat_minor": 0
}